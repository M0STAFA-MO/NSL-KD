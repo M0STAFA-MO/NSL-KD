{
  "cells": [
    {
      "cell_type": "markdown",
      "metadata": {
        "id": "8Mchsux25kZu"
      },
      "source": [
        "## ***important libraries:)***\n",
        "\n"
      ]
    },
    {
      "cell_type": "code",
      "execution_count": null,
      "metadata": {
        "id": "Oei7dsKWQOoU"
      },
      "outputs": [],
      "source": [
        "import numpy as np\n",
        "import pandas as pd\n",
        "pd.set_option('display.max_columns',None)\n",
        "import warnings\n",
        "warnings.filterwarnings('ignore')\n",
        "import matplotlib.pyplot as plt\n",
        "%matplotlib inline\n",
        "from sklearn.metrics import accuracy_score\n",
        "from sklearn.metrics import classification_report\n",
        "from sklearn.metrics import confusion_matrix\n"
      ]
    },
    {
      "cell_type": "markdown",
      "metadata": {
        "id": "6Izl9sh5PSk1"
      },
      "source": [
        "# ***Exploring the dataset:)***"
      ]
    },
    {
      "cell_type": "code",
      "source": [
        "col_names = [\"duration\",\"protocol_type\",\"service\",\"flag\",\"src_bytes\",\n",
        "    \"dst_bytes\",\"land\",\"wrong_fragment\",\"urgent\",\"hot\",\"num_failed_logins\",\n",
        "    \"logged_in\",\"num_compromised\",\"root_shell\",\"su_attempted\",\"num_root\",\n",
        "    \"num_file_creations\",\"num_shells\",\"num_access_files\",\"num_outbound_cmds\",\n",
        "    \"is_host_login\",\"is_guest_login\",\"count\",\"srv_count\",\"serror_rate\",\n",
        "    \"srv_serror_rate\",\"rerror_rate\",\"srv_rerror_rate\",\"same_srv_rate\",\n",
        "    \"diff_srv_rate\",\"srv_diff_host_rate\",\"dst_host_count\",\"dst_host_srv_count\",\n",
        "    \"dst_host_same_srv_rate\",\"dst_host_diff_srv_rate\",\"dst_host_same_src_port_rate\",\n",
        "    \"dst_host_srv_diff_host_rate\",\"dst_host_serror_rate\",\"dst_host_srv_serror_rate\",\n",
        "    \"dst_host_rerror_rate\",\"dst_host_srv_rerror_rate\",\"label\",\"difficulty_level\"]"
      ],
      "metadata": {
        "id": "svPBQ6hkE-c1"
      },
      "execution_count": null,
      "outputs": []
    },
    {
      "cell_type": "code",
      "execution_count": null,
      "metadata": {
        "id": "6xpmzHVFQRvx"
      },
      "outputs": [],
      "source": [
        "train = pd.read_csv('/content/train_COMPETITION.csv',header=None, names=col_names)\n",
        "test=pd.read_csv('/content/test_COMPETITION.csv')\n"
      ]
    },
    {
      "cell_type": "code",
      "source": [
        "display(train.info())\n",
        "display(test.info())\n"
      ],
      "metadata": {
        "colab": {
          "base_uri": "https://localhost:8080/",
          "height": 1000
        },
        "id": "Fwu4imwvVUtP",
        "outputId": "e3edb6a8-4df5-4e39-fec1-2f53d7ac0b7f"
      },
      "execution_count": null,
      "outputs": [
        {
          "output_type": "stream",
          "name": "stdout",
          "text": [
            "<class 'pandas.core.frame.DataFrame'>\n",
            "Index: 17252 entries, ID to 18146\n",
            "Data columns (total 43 columns):\n",
            " #   Column                       Non-Null Count  Dtype \n",
            "---  ------                       --------------  ----- \n",
            " 0   duration                     17252 non-null  object\n",
            " 1   protocol_type                17252 non-null  object\n",
            " 2   service                      17252 non-null  object\n",
            " 3   flag                         17252 non-null  object\n",
            " 4   src_bytes                    17252 non-null  object\n",
            " 5   dst_bytes                    17252 non-null  object\n",
            " 6   land                         17252 non-null  object\n",
            " 7   wrong_fragment               17252 non-null  object\n",
            " 8   urgent                       17252 non-null  object\n",
            " 9   hot                          17252 non-null  object\n",
            " 10  num_failed_logins            17252 non-null  object\n",
            " 11  logged_in                    17252 non-null  object\n",
            " 12  num_compromised              17252 non-null  object\n",
            " 13  root_shell                   17252 non-null  object\n",
            " 14  su_attempted                 17252 non-null  object\n",
            " 15  num_root                     17252 non-null  object\n",
            " 16  num_file_creations           17252 non-null  object\n",
            " 17  num_shells                   17252 non-null  object\n",
            " 18  num_access_files             17252 non-null  object\n",
            " 19  num_outbound_cmds            17252 non-null  object\n",
            " 20  is_host_login                17252 non-null  object\n",
            " 21  is_guest_login               17252 non-null  object\n",
            " 22  count                        17252 non-null  object\n",
            " 23  srv_count                    17252 non-null  object\n",
            " 24  serror_rate                  17252 non-null  object\n",
            " 25  srv_serror_rate              17252 non-null  object\n",
            " 26  rerror_rate                  17252 non-null  object\n",
            " 27  srv_rerror_rate              17252 non-null  object\n",
            " 28  same_srv_rate                17252 non-null  object\n",
            " 29  diff_srv_rate                17252 non-null  object\n",
            " 30  srv_diff_host_rate           17252 non-null  object\n",
            " 31  dst_host_count               17252 non-null  object\n",
            " 32  dst_host_srv_count           17252 non-null  object\n",
            " 33  dst_host_same_srv_rate       17252 non-null  object\n",
            " 34  dst_host_diff_srv_rate       17252 non-null  object\n",
            " 35  dst_host_same_src_port_rate  17252 non-null  object\n",
            " 36  dst_host_srv_diff_host_rate  17252 non-null  object\n",
            " 37  dst_host_serror_rate         17252 non-null  object\n",
            " 38  dst_host_srv_serror_rate     17252 non-null  object\n",
            " 39  dst_host_rerror_rate         17252 non-null  object\n",
            " 40  dst_host_srv_rerror_rate     17252 non-null  object\n",
            " 41  label                        17252 non-null  object\n",
            " 42  difficulty_level             17252 non-null  object\n",
            "dtypes: object(43)\n",
            "memory usage: 5.8+ MB\n"
          ]
        },
        {
          "output_type": "display_data",
          "data": {
            "text/plain": [
              "None"
            ]
          },
          "metadata": {}
        },
        {
          "output_type": "stream",
          "name": "stdout",
          "text": [
            "<class 'pandas.core.frame.DataFrame'>\n",
            "RangeIndex: 5751 entries, 0 to 5750\n",
            "Data columns (total 43 columns):\n",
            " #   Column                       Non-Null Count  Dtype  \n",
            "---  ------                       --------------  -----  \n",
            " 0   ID                           5751 non-null   int64  \n",
            " 1   duration                     5751 non-null   int64  \n",
            " 2   protocol_type                5751 non-null   object \n",
            " 3   service                      5751 non-null   object \n",
            " 4   flag                         5751 non-null   object \n",
            " 5   src_bytes                    5751 non-null   int64  \n",
            " 6   dst_bytes                    5751 non-null   int64  \n",
            " 7   land                         5751 non-null   int64  \n",
            " 8   wrong_fragment               5751 non-null   int64  \n",
            " 9   urgent                       5751 non-null   int64  \n",
            " 10  hot                          5751 non-null   int64  \n",
            " 11  num_failed_logins            5751 non-null   int64  \n",
            " 12  logged_in                    5751 non-null   int64  \n",
            " 13  num_compromised              5751 non-null   int64  \n",
            " 14  root_shell                   5751 non-null   int64  \n",
            " 15  su_attempted                 5751 non-null   int64  \n",
            " 16  num_root                     5751 non-null   int64  \n",
            " 17  num_file_creations           5751 non-null   int64  \n",
            " 18  num_shells                   5751 non-null   int64  \n",
            " 19  num_access_files             5751 non-null   int64  \n",
            " 20  num_outbound_cmds            5751 non-null   int64  \n",
            " 21  is_host_login                5751 non-null   int64  \n",
            " 22  is_guest_login               5751 non-null   int64  \n",
            " 23  count                        5751 non-null   int64  \n",
            " 24  srv_count                    5751 non-null   int64  \n",
            " 25  serror_rate                  5751 non-null   float64\n",
            " 26  srv_serror_rate              5751 non-null   float64\n",
            " 27  rerror_rate                  5751 non-null   float64\n",
            " 28  srv_rerror_rate              5751 non-null   float64\n",
            " 29  same_srv_rate                5751 non-null   float64\n",
            " 30  diff_srv_rate                5751 non-null   float64\n",
            " 31  srv_diff_host_rate           5751 non-null   float64\n",
            " 32  dst_host_count               5751 non-null   int64  \n",
            " 33  dst_host_srv_count           5751 non-null   int64  \n",
            " 34  dst_host_same_srv_rate       5751 non-null   float64\n",
            " 35  dst_host_diff_srv_rate       5751 non-null   float64\n",
            " 36  dst_host_same_src_port_rate  5751 non-null   float64\n",
            " 37  dst_host_srv_diff_host_rate  5751 non-null   float64\n",
            " 38  dst_host_serror_rate         5751 non-null   float64\n",
            " 39  dst_host_srv_serror_rate     5751 non-null   float64\n",
            " 40  dst_host_rerror_rate         5751 non-null   float64\n",
            " 41  dst_host_srv_rerror_rate     5751 non-null   float64\n",
            " 42  level                        5751 non-null   int64  \n",
            "dtypes: float64(15), int64(25), object(3)\n",
            "memory usage: 1.9+ MB\n"
          ]
        },
        {
          "output_type": "display_data",
          "data": {
            "text/plain": [
              "None"
            ]
          },
          "metadata": {}
        }
      ]
    },
    {
      "cell_type": "markdown",
      "source": [
        "## ***check messing data and duplicated:)***"
      ],
      "metadata": {
        "id": "Xs2u-mcuJiTf"
      }
    },
    {
      "cell_type": "code",
      "source": [
        "\n",
        "def check_null_duplicate(df):\n",
        "    nu = df.isnull().sum()\n",
        "    print('NUMBER OF NULL FOR EVERY COLUMN \\n', nu[nu > 0])\n",
        "    print(\"----------------------------\")\n",
        "    dub = df.duplicated().sum()\n",
        "    print('NUMBER OF DUPLICATES FOR EVERY COLUMN \\n', dub[dub > 0])\n",
        "    print(\"----------------------------\")\n",
        "\n",
        "print(\"Checking train data :\")\n",
        "check_null_duplicate(train)\n",
        "\n",
        "print(\"Checking  test data:\")\n",
        "check_null_duplicate(test)"
      ],
      "metadata": {
        "colab": {
          "base_uri": "https://localhost:8080/"
        },
        "id": "73sGzDQjKYcG",
        "outputId": "e40daefc-0c20-402e-e51f-750906475e7c"
      },
      "execution_count": null,
      "outputs": [
        {
          "output_type": "stream",
          "name": "stdout",
          "text": [
            "Checking train data :\n",
            "NUMBER OF NULL FOR EVERY COLUMN \n",
            " Series([], dtype: int64)\n",
            "----------------------------\n",
            "NUMBER OF DUPLICATES FOR EVERY COLUMN \n",
            " []\n",
            "----------------------------\n",
            "Checking  test data:\n",
            "NUMBER OF NULL FOR EVERY COLUMN \n",
            " Series([], dtype: int64)\n",
            "----------------------------\n",
            "NUMBER OF DUPLICATES FOR EVERY COLUMN \n",
            " []\n",
            "----------------------------\n"
          ]
        }
      ]
    },
    {
      "cell_type": "markdown",
      "source": [
        "# ***transform data:)***"
      ],
      "metadata": {
        "id": "h3tCAgRbwxiO"
      }
    },
    {
      "cell_type": "code",
      "execution_count": null,
      "metadata": {
        "id": "gm_59o67c7cE"
      },
      "outputs": [],
      "source": [
        "from sklearn.preprocessing import LabelEncoder\n",
        "lab=LabelEncoder()\n",
        "obj=train.select_dtypes(include='object')\n",
        "non_obj=train.select_dtypes(exclude='object')\n",
        "ob=test.select_dtypes(include='object')\n",
        "non_ob=test.select_dtypes(exclude='object')\n",
        "for i in range(0,obj.shape[1]):\n",
        "   obj.iloc[:,i]=lab.fit_transform(obj.iloc[:,i])\n",
        "for i in range(0,obj.shape[1]):\n",
        "   ob.iloc[:,i]=lab.fit_transform(ob.iloc[:,i])"
      ]
    },
    {
      "cell_type": "code",
      "execution_count": null,
      "metadata": {
        "id": "3ntiiuOznIE5"
      },
      "outputs": [],
      "source": [
        "test=pd.concat([ob,non_ob],axis=1)\n",
        "train=pd.concat([obj,non_obj],axis=1)"
      ]
    },
    {
      "cell_type": "markdown",
      "source": [
        "# ***Split Data:)***"
      ],
      "metadata": {
        "id": "L4Sq8KV7w8ex"
      }
    },
    {
      "cell_type": "code",
      "execution_count": null,
      "metadata": {
        "id": "2eTDgAHMfN7T"
      },
      "outputs": [],
      "source": [
        "from sklearn.model_selection import train_test_split\n",
        "train_x = train.iloc[:, :-1]\n",
        "train_y = train.iloc[:, -1]\n",
        "test_x = test.iloc[:, :-1]\n",
        "test_y = test.iloc[:, -1]\n",
        "x_train, x_test, y_train, y_test = train_test_split(train_x,train_y ,test_size=0.2, random_state=42)\n"
      ]
    },
    {
      "cell_type": "markdown",
      "source": [
        "# **scalingdata:_)**"
      ],
      "metadata": {
        "id": "QTAFjAgnxONL"
      }
    },
    {
      "cell_type": "code",
      "source": [
        "from sklearn.preprocessing import RobustScaler,MinMaxScaler\n",
        "Min=MinMaxScaler()\n",
        "x_train=Min.fit_transform(x_train)\n",
        "x_test=Min.transform(x_test)"
      ],
      "metadata": {
        "id": "PHfXZnlKMrwl"
      },
      "execution_count": null,
      "outputs": []
    },
    {
      "cell_type": "markdown",
      "source": [
        "# ***best parameters by csv model:)***"
      ],
      "metadata": {
        "id": "YLzKRRl4Nq9-"
      }
    },
    {
      "cell_type": "code",
      "source": [
        "from sklearn.ensemble import RandomForestClassifier, GradientBoostingClassifier, AdaBoostClassifier, BaggingClassifier, RandomForestRegressor\n",
        "\n",
        "from sklearn.svm import SVC\n",
        "from xgboost import XGBClassifier\n",
        "from sklearn.model_selection import GridSearchCV\n",
        "# Define the parameter grids for each model\n",
        "\n",
        "param_grid_rf = {'n_estimators': [10, 50, 100, 150, 200], 'max_depth': [1, 2, 3, 4, 5]}\n",
        "param_grid_svc = {'C': [0.001, 0.01, 0.1, 1, 10, 100], 'kernel': ['linear']}\n",
        "param_grid_xgb = {'n_estimators': [10, 50, 100, 150, 200], 'max_depth': [1, 2, 3, 4, 5]}\n",
        "\n",
        "\n",
        "# Create the grid search objects for each model\n",
        "\n",
        "grid_search_rf = GridSearchCV(RandomForestClassifier(random_state=42), param_grid_rf, cv=5)\n",
        "grid_search_svc = GridSearchCV(SVC(), param_grid_svc, cv=5)\n",
        "grid_search_xgb = GridSearchCV(XGBClassifier(random_state=42), param_grid_xgb, cv=5)\n",
        "\n",
        "\n",
        "# Fit the grid search objects to the data\n",
        "\n",
        "grid_search_rf.fit(x_train, y_train)\n",
        "grid_search_svc.fit(x_train, y_train)\n",
        "grid_search_xgb.fit(x_train, y_train)\n",
        "\n",
        "\n",
        "# Print the best parameters and scores for each model\n",
        "print(\"Random Forest - best parameters:\", grid_search_rf.best_params_)\n",
        "print(\"Random Forest - best score:\", grid_search_rf.best_score_)\n",
        "print(\"Support Vector Machine - best parameters:\", grid_search_svc.best_params_)\n",
        "print(\"Support Vector Machine - best score:\", grid_search_svc.best_score_)\n",
        "print(\"XGBoost - best parameters:\", grid_search_xgb.best_params_)\n",
        "print(\"XGBoost - best score:\", grid_search_xgb.best_score_)\n"
      ],
      "metadata": {
        "colab": {
          "base_uri": "https://localhost:8080/"
        },
        "id": "arV1SEprwxpV",
        "outputId": "d135ae0b-bb78-4375-b8f8-ede9c1396f9f"
      },
      "execution_count": null,
      "outputs": [
        {
          "output_type": "stream",
          "name": "stdout",
          "text": [
            "Random Forest - best parameters: {'max_depth': 5, 'n_estimators': 150}\n",
            "Random Forest - best score: 0.991521739130435\n",
            "Support Vector Machine - best parameters: {'C': 100, 'kernel': 'linear'}\n",
            "Support Vector Machine - best score: 0.9810869565217392\n",
            "XGBoost - best parameters: {'max_depth': 2, 'n_estimators': 200}\n",
            "XGBoost - best score: 0.9986231884057972\n"
          ]
        }
      ]
    },
    {
      "cell_type": "markdown",
      "source": [
        "## ***create models:)***"
      ],
      "metadata": {
        "id": "QNxmmrPELrVy"
      }
    },
    {
      "cell_type": "code",
      "execution_count": null,
      "metadata": {
        "colab": {
          "base_uri": "https://localhost:8080/",
          "height": 542
        },
        "id": "DjyGPAUnRv7a",
        "outputId": "f5967f8f-f512-42a5-c213-76b3616a9947"
      },
      "outputs": [
        {
          "output_type": "display_data",
          "data": {
            "text/html": [
              "<html>\n",
              "<head><meta charset=\"utf-8\" /></head>\n",
              "<body>\n",
              "    <div>            <script src=\"https://cdnjs.cloudflare.com/ajax/libs/mathjax/2.7.5/MathJax.js?config=TeX-AMS-MML_SVG\"></script><script type=\"text/javascript\">if (window.MathJax && window.MathJax.Hub && window.MathJax.Hub.Config) {window.MathJax.Hub.Config({SVG: {font: \"STIX-Web\"}});}</script>                <script type=\"text/javascript\">window.PlotlyConfig = {MathJaxConfig: 'local'};</script>\n",
              "        <script src=\"https://cdn.plot.ly/plotly-2.18.2.min.js\"></script>                <div id=\"95b5454d-b839-4301-b891-faa113507fac\" class=\"plotly-graph-div\" style=\"height:525px; width:100%;\"></div>            <script type=\"text/javascript\">                                    window.PLOTLYENV=window.PLOTLYENV || {};                                    if (document.getElementById(\"95b5454d-b839-4301-b891-faa113507fac\")) {                    Plotly.newPlot(                        \"95b5454d-b839-4301-b891-faa113507fac\",                        [{\"name\":\"accuracy\",\"offsetgroup\":\"1\",\"text\":[\"1.0\",\"0.99\",\"0.98\"],\"textposition\":\"outside\",\"x\":[\"XGBClassifier\",\"RandomForestClassifier\",\"SVC\"],\"y\":[0.9971022891915386,0.9898580121703854,0.9750796870472327],\"type\":\"bar\",\"texttemplate\":\"%{text:.2f}\"}],                        {\"template\":{\"data\":{\"histogram2dcontour\":[{\"type\":\"histogram2dcontour\",\"colorbar\":{\"outlinewidth\":0,\"ticks\":\"\"},\"colorscale\":[[0.0,\"#0d0887\"],[0.1111111111111111,\"#46039f\"],[0.2222222222222222,\"#7201a8\"],[0.3333333333333333,\"#9c179e\"],[0.4444444444444444,\"#bd3786\"],[0.5555555555555556,\"#d8576b\"],[0.6666666666666666,\"#ed7953\"],[0.7777777777777778,\"#fb9f3a\"],[0.8888888888888888,\"#fdca26\"],[1.0,\"#f0f921\"]]}],\"choropleth\":[{\"type\":\"choropleth\",\"colorbar\":{\"outlinewidth\":0,\"ticks\":\"\"}}],\"histogram2d\":[{\"type\":\"histogram2d\",\"colorbar\":{\"outlinewidth\":0,\"ticks\":\"\"},\"colorscale\":[[0.0,\"#0d0887\"],[0.1111111111111111,\"#46039f\"],[0.2222222222222222,\"#7201a8\"],[0.3333333333333333,\"#9c179e\"],[0.4444444444444444,\"#bd3786\"],[0.5555555555555556,\"#d8576b\"],[0.6666666666666666,\"#ed7953\"],[0.7777777777777778,\"#fb9f3a\"],[0.8888888888888888,\"#fdca26\"],[1.0,\"#f0f921\"]]}],\"heatmap\":[{\"type\":\"heatmap\",\"colorbar\":{\"outlinewidth\":0,\"ticks\":\"\"},\"colorscale\":[[0.0,\"#0d0887\"],[0.1111111111111111,\"#46039f\"],[0.2222222222222222,\"#7201a8\"],[0.3333333333333333,\"#9c179e\"],[0.4444444444444444,\"#bd3786\"],[0.5555555555555556,\"#d8576b\"],[0.6666666666666666,\"#ed7953\"],[0.7777777777777778,\"#fb9f3a\"],[0.8888888888888888,\"#fdca26\"],[1.0,\"#f0f921\"]]}],\"heatmapgl\":[{\"type\":\"heatmapgl\",\"colorbar\":{\"outlinewidth\":0,\"ticks\":\"\"},\"colorscale\":[[0.0,\"#0d0887\"],[0.1111111111111111,\"#46039f\"],[0.2222222222222222,\"#7201a8\"],[0.3333333333333333,\"#9c179e\"],[0.4444444444444444,\"#bd3786\"],[0.5555555555555556,\"#d8576b\"],[0.6666666666666666,\"#ed7953\"],[0.7777777777777778,\"#fb9f3a\"],[0.8888888888888888,\"#fdca26\"],[1.0,\"#f0f921\"]]}],\"contourcarpet\":[{\"type\":\"contourcarpet\",\"colorbar\":{\"outlinewidth\":0,\"ticks\":\"\"}}],\"contour\":[{\"type\":\"contour\",\"colorbar\":{\"outlinewidth\":0,\"ticks\":\"\"},\"colorscale\":[[0.0,\"#0d0887\"],[0.1111111111111111,\"#46039f\"],[0.2222222222222222,\"#7201a8\"],[0.3333333333333333,\"#9c179e\"],[0.4444444444444444,\"#bd3786\"],[0.5555555555555556,\"#d8576b\"],[0.6666666666666666,\"#ed7953\"],[0.7777777777777778,\"#fb9f3a\"],[0.8888888888888888,\"#fdca26\"],[1.0,\"#f0f921\"]]}],\"surface\":[{\"type\":\"surface\",\"colorbar\":{\"outlinewidth\":0,\"ticks\":\"\"},\"colorscale\":[[0.0,\"#0d0887\"],[0.1111111111111111,\"#46039f\"],[0.2222222222222222,\"#7201a8\"],[0.3333333333333333,\"#9c179e\"],[0.4444444444444444,\"#bd3786\"],[0.5555555555555556,\"#d8576b\"],[0.6666666666666666,\"#ed7953\"],[0.7777777777777778,\"#fb9f3a\"],[0.8888888888888888,\"#fdca26\"],[1.0,\"#f0f921\"]]}],\"mesh3d\":[{\"type\":\"mesh3d\",\"colorbar\":{\"outlinewidth\":0,\"ticks\":\"\"}}],\"scatter\":[{\"fillpattern\":{\"fillmode\":\"overlay\",\"size\":10,\"solidity\":0.2},\"type\":\"scatter\"}],\"parcoords\":[{\"type\":\"parcoords\",\"line\":{\"colorbar\":{\"outlinewidth\":0,\"ticks\":\"\"}}}],\"scatterpolargl\":[{\"type\":\"scatterpolargl\",\"marker\":{\"colorbar\":{\"outlinewidth\":0,\"ticks\":\"\"}}}],\"bar\":[{\"error_x\":{\"color\":\"#2a3f5f\"},\"error_y\":{\"color\":\"#2a3f5f\"},\"marker\":{\"line\":{\"color\":\"#E5ECF6\",\"width\":0.5},\"pattern\":{\"fillmode\":\"overlay\",\"size\":10,\"solidity\":0.2}},\"type\":\"bar\"}],\"scattergeo\":[{\"type\":\"scattergeo\",\"marker\":{\"colorbar\":{\"outlinewidth\":0,\"ticks\":\"\"}}}],\"scatterpolar\":[{\"type\":\"scatterpolar\",\"marker\":{\"colorbar\":{\"outlinewidth\":0,\"ticks\":\"\"}}}],\"histogram\":[{\"marker\":{\"pattern\":{\"fillmode\":\"overlay\",\"size\":10,\"solidity\":0.2}},\"type\":\"histogram\"}],\"scattergl\":[{\"type\":\"scattergl\",\"marker\":{\"colorbar\":{\"outlinewidth\":0,\"ticks\":\"\"}}}],\"scatter3d\":[{\"type\":\"scatter3d\",\"line\":{\"colorbar\":{\"outlinewidth\":0,\"ticks\":\"\"}},\"marker\":{\"colorbar\":{\"outlinewidth\":0,\"ticks\":\"\"}}}],\"scattermapbox\":[{\"type\":\"scattermapbox\",\"marker\":{\"colorbar\":{\"outlinewidth\":0,\"ticks\":\"\"}}}],\"scatterternary\":[{\"type\":\"scatterternary\",\"marker\":{\"colorbar\":{\"outlinewidth\":0,\"ticks\":\"\"}}}],\"scattercarpet\":[{\"type\":\"scattercarpet\",\"marker\":{\"colorbar\":{\"outlinewidth\":0,\"ticks\":\"\"}}}],\"carpet\":[{\"aaxis\":{\"endlinecolor\":\"#2a3f5f\",\"gridcolor\":\"white\",\"linecolor\":\"white\",\"minorgridcolor\":\"white\",\"startlinecolor\":\"#2a3f5f\"},\"baxis\":{\"endlinecolor\":\"#2a3f5f\",\"gridcolor\":\"white\",\"linecolor\":\"white\",\"minorgridcolor\":\"white\",\"startlinecolor\":\"#2a3f5f\"},\"type\":\"carpet\"}],\"table\":[{\"cells\":{\"fill\":{\"color\":\"#EBF0F8\"},\"line\":{\"color\":\"white\"}},\"header\":{\"fill\":{\"color\":\"#C8D4E3\"},\"line\":{\"color\":\"white\"}},\"type\":\"table\"}],\"barpolar\":[{\"marker\":{\"line\":{\"color\":\"#E5ECF6\",\"width\":0.5},\"pattern\":{\"fillmode\":\"overlay\",\"size\":10,\"solidity\":0.2}},\"type\":\"barpolar\"}],\"pie\":[{\"automargin\":true,\"type\":\"pie\"}]},\"layout\":{\"autotypenumbers\":\"strict\",\"colorway\":[\"#636efa\",\"#EF553B\",\"#00cc96\",\"#ab63fa\",\"#FFA15A\",\"#19d3f3\",\"#FF6692\",\"#B6E880\",\"#FF97FF\",\"#FECB52\"],\"font\":{\"color\":\"#2a3f5f\"},\"hovermode\":\"closest\",\"hoverlabel\":{\"align\":\"left\"},\"paper_bgcolor\":\"white\",\"plot_bgcolor\":\"#E5ECF6\",\"polar\":{\"bgcolor\":\"#E5ECF6\",\"angularaxis\":{\"gridcolor\":\"white\",\"linecolor\":\"white\",\"ticks\":\"\"},\"radialaxis\":{\"gridcolor\":\"white\",\"linecolor\":\"white\",\"ticks\":\"\"}},\"ternary\":{\"bgcolor\":\"#E5ECF6\",\"aaxis\":{\"gridcolor\":\"white\",\"linecolor\":\"white\",\"ticks\":\"\"},\"baxis\":{\"gridcolor\":\"white\",\"linecolor\":\"white\",\"ticks\":\"\"},\"caxis\":{\"gridcolor\":\"white\",\"linecolor\":\"white\",\"ticks\":\"\"}},\"coloraxis\":{\"colorbar\":{\"outlinewidth\":0,\"ticks\":\"\"}},\"colorscale\":{\"sequential\":[[0.0,\"#0d0887\"],[0.1111111111111111,\"#46039f\"],[0.2222222222222222,\"#7201a8\"],[0.3333333333333333,\"#9c179e\"],[0.4444444444444444,\"#bd3786\"],[0.5555555555555556,\"#d8576b\"],[0.6666666666666666,\"#ed7953\"],[0.7777777777777778,\"#fb9f3a\"],[0.8888888888888888,\"#fdca26\"],[1.0,\"#f0f921\"]],\"sequentialminus\":[[0.0,\"#0d0887\"],[0.1111111111111111,\"#46039f\"],[0.2222222222222222,\"#7201a8\"],[0.3333333333333333,\"#9c179e\"],[0.4444444444444444,\"#bd3786\"],[0.5555555555555556,\"#d8576b\"],[0.6666666666666666,\"#ed7953\"],[0.7777777777777778,\"#fb9f3a\"],[0.8888888888888888,\"#fdca26\"],[1.0,\"#f0f921\"]],\"diverging\":[[0,\"#8e0152\"],[0.1,\"#c51b7d\"],[0.2,\"#de77ae\"],[0.3,\"#f1b6da\"],[0.4,\"#fde0ef\"],[0.5,\"#f7f7f7\"],[0.6,\"#e6f5d0\"],[0.7,\"#b8e186\"],[0.8,\"#7fbc41\"],[0.9,\"#4d9221\"],[1,\"#276419\"]]},\"xaxis\":{\"gridcolor\":\"white\",\"linecolor\":\"white\",\"ticks\":\"\",\"title\":{\"standoff\":15},\"zerolinecolor\":\"white\",\"automargin\":true,\"zerolinewidth\":2},\"yaxis\":{\"gridcolor\":\"white\",\"linecolor\":\"white\",\"ticks\":\"\",\"title\":{\"standoff\":15},\"zerolinecolor\":\"white\",\"automargin\":true,\"zerolinewidth\":2},\"scene\":{\"xaxis\":{\"backgroundcolor\":\"#E5ECF6\",\"gridcolor\":\"white\",\"linecolor\":\"white\",\"showbackground\":true,\"ticks\":\"\",\"zerolinecolor\":\"white\",\"gridwidth\":2},\"yaxis\":{\"backgroundcolor\":\"#E5ECF6\",\"gridcolor\":\"white\",\"linecolor\":\"white\",\"showbackground\":true,\"ticks\":\"\",\"zerolinecolor\":\"white\",\"gridwidth\":2},\"zaxis\":{\"backgroundcolor\":\"#E5ECF6\",\"gridcolor\":\"white\",\"linecolor\":\"white\",\"showbackground\":true,\"ticks\":\"\",\"zerolinecolor\":\"white\",\"gridwidth\":2}},\"shapedefaults\":{\"line\":{\"color\":\"#2a3f5f\"}},\"annotationdefaults\":{\"arrowcolor\":\"#2a3f5f\",\"arrowhead\":0,\"arrowwidth\":1},\"geo\":{\"bgcolor\":\"white\",\"landcolor\":\"#E5ECF6\",\"subunitcolor\":\"white\",\"showland\":true,\"showlakes\":true,\"lakecolor\":\"white\"},\"title\":{\"x\":0.05},\"mapbox\":{\"style\":\"light\"}}},\"font\":{\"family\":\"Courier New, monospace\",\"size\":14,\"color\":\"#3f3f3f\"},\"title\":{\"text\":\"Accuracy of Different Models\"},\"xaxis\":{\"title\":{\"text\":\"Model\"}},\"yaxis\":{\"title\":{\"text\":\"Accuracy\"}}},                        {\"responsive\": true}                    ).then(function(){\n",
              "                            \n",
              "var gd = document.getElementById('95b5454d-b839-4301-b891-faa113507fac');\n",
              "var x = new MutationObserver(function (mutations, observer) {{\n",
              "        var display = window.getComputedStyle(gd).display;\n",
              "        if (!display || display === 'none') {{\n",
              "            console.log([gd, 'removed!']);\n",
              "            Plotly.purge(gd);\n",
              "            observer.disconnect();\n",
              "        }}\n",
              "}});\n",
              "\n",
              "// Listen for the removal of the full notebook cells\n",
              "var notebookContainer = gd.closest('#notebook-container');\n",
              "if (notebookContainer) {{\n",
              "    x.observe(notebookContainer, {childList: true});\n",
              "}}\n",
              "\n",
              "// Listen for the clearing of the current output cell\n",
              "var outputEl = gd.closest('.output');\n",
              "if (outputEl) {{\n",
              "    x.observe(outputEl, {childList: true});\n",
              "}}\n",
              "\n",
              "                        })                };                            </script>        </div>\n",
              "</body>\n",
              "</html>"
            ]
          },
          "metadata": {}
        }
      ],
      "source": [
        "\n",
        "\n",
        "random_state = 42\n",
        "\n",
        "models = [\n",
        "          RandomForestClassifier(max_depth=5, n_estimators=150, random_state=random_state),\n",
        "          SVC(C=100, kernel='linear', random_state=random_state),\n",
        "          XGBClassifier(max_depth=2, n_estimators=200, random_state=random_state),\n",
        "         ]\n",
        "results = []\n",
        "\n",
        "for model in models:\n",
        "    model.fit(x_train, y_train)\n",
        "    y_pred = model.predict(x_test)\n",
        "    accuracy = accuracy_score(y_test, y_pred)\n",
        "    model_name = type(model).__name__\n",
        "    results.append([model_name, accuracy])\n",
        "df = pd.DataFrame(results, columns=['Model', 'Accuracy'])\n",
        "df = df.sort_values(by=['Accuracy'], ascending=False)\n",
        "\n",
        "import plotly.graph_objects as go\n",
        "\n",
        "fig = go.Figure(data=[\n",
        "    go.Bar(\n",
        "        x=df['Model'], y=df['Accuracy'],\n",
        "        text=df['Accuracy'].apply(lambda x: f\"{round(x,2)}\"),\n",
        "        textposition='auto',\n",
        "        offsetgroup=1,\n",
        "        name='accuracy'\n",
        "    )\n",
        "])\n",
        "\n",
        "fig.update_traces(texttemplate='%{text:.2f}', textposition='outside')\n",
        "fig.update_layout(\n",
        "    title=\"Accuracy of Different Models\",\n",
        "    xaxis_title=\"Model\",\n",
        "    yaxis_title=\"Accuracy\",\n",
        "    font=dict(\n",
        "        family=\"Courier New, monospace\",\n",
        "        size=14,\n",
        "        color=\"#3f3f3f\"\n",
        "    )\n",
        ")\n",
        "\n",
        "fig.show()\n",
        "\n"
      ]
    },
    {
      "cell_type": "code",
      "execution_count": null,
      "metadata": {
        "colab": {
          "base_uri": "https://localhost:8080/"
        },
        "id": "o4zOf-nNRCmz",
        "outputId": "7e9aceed-57ba-4721-da27-1e28e1049345"
      },
      "outputs": [
        {
          "output_type": "stream",
          "name": "stdout",
          "text": [
            "Best model is XGBClassifier with accuracy 0.9971\n",
            "              precision    recall  f1-score   support\n",
            "\n",
            "           0       1.00      1.00      1.00      1808\n",
            "           1       0.99      1.00      1.00      1643\n",
            "\n",
            "    accuracy                           1.00      3451\n",
            "   macro avg       1.00      1.00      1.00      3451\n",
            "weighted avg       1.00      1.00      1.00      3451\n",
            "\n",
            "[[1799    9]\n",
            " [   1 1642]]\n",
            "Labels: [0 1]\n",
            "\n"
          ]
        }
      ],
      "source": [
        "\n",
        "models = [ RandomForestClassifier(max_depth=5, n_estimators=150, random_state=random_state),\n",
        "          SVC(C=100, kernel='linear', random_state=random_state),\n",
        "          XGBClassifier(max_depth=2, n_estimators=200, random_state=random_state),]\n",
        "\n",
        "best_model = None\n",
        "best_accuracy = 0\n",
        "\n",
        "for model in models:\n",
        "    model.fit(x_train, y_train)\n",
        "    y_pred = model.predict(x_test)\n",
        "    accuracy = accuracy_score(y_test, y_pred)\n",
        "    if accuracy > best_accuracy:\n",
        "        best_accuracy = accuracy\n",
        "        best_model = model\n",
        "\n",
        "if best_model is not None:\n",
        "    y_pred = best_model.predict(x_test)\n",
        "    clas = classification_report(y_test, y_pred)\n",
        "    co = confusion_matrix(y_test, y_pred)\n",
        "    labels = np.unique(y_test)\n",
        "    print(f\"Best model is {type(best_model).__name__} with accuracy {best_accuracy:.4f}\\n{clas}\\n{co}\\nLabels: {labels}\\n\")\n",
        "else:\n",
        "    print(\"No model found.\")\n"
      ]
    },
    {
      "cell_type": "markdown",
      "source": [
        "# ***KMeans:)***"
      ],
      "metadata": {
        "id": "aU_QTAtXM9lK"
      }
    },
    {
      "cell_type": "code",
      "execution_count": null,
      "metadata": {
        "id": "nJUaguukVnAn"
      },
      "outputs": [],
      "source": [
        "\n",
        "from sklearn.cluster import KMeans\n",
        "clu=[]\n",
        "j=[]\n",
        "for i in range(1,15):\n",
        "   km=KMeans(n_clusters=i)\n",
        "   km.fit(x_train)\n",
        "   clu.append(i)\n",
        "   j.append(km.inertia_)\n",
        "pd.DataFrame(clu,j)\n"
      ]
    },
    {
      "cell_type": "markdown",
      "metadata": {
        "id": "kSOPWfW4l10t"
      },
      "source": [
        "# ***elpow method :)***"
      ]
    },
    {
      "cell_type": "code",
      "execution_count": null,
      "metadata": {
        "id": "CXt_z9tYhKUk"
      },
      "outputs": [],
      "source": [
        "plt.plot(clu,j,marker=\"o\")\n",
        "plt.title('the best num of KMeans')\n",
        "plt.xlabel(\"count of means\")\n",
        "plt.ylabel(\"error\")\n",
        "\n",
        "plt.show()\n"
      ]
    },
    {
      "cell_type": "code",
      "execution_count": null,
      "metadata": {
        "id": "fLxZE6WgmGp7"
      },
      "outputs": [],
      "source": [
        "km=KMeans(n_clusters=4)\n",
        "km.fit(x_train)\n",
        "pre=km.predict(x_train)\n",
        "\n",
        "kmea=pd.DataFrame(pre)\n",
        "df1=kmea[kmea[0]==0]\n",
        "df1=kmea[kmea[0]==1]\n",
        "df1=kmea[kmea[0]==2]\n",
        "df1=kmea[kmea[0]==3]\n",
        "kmea.value_counts().plot.pie(autopct='%0.2f%%')"
      ]
    },
    {
      "cell_type": "code",
      "source": [],
      "metadata": {
        "id": "5CyC6D0WaWwH"
      },
      "execution_count": null,
      "outputs": []
    },
    {
      "cell_type": "code",
      "source": [
        "!pip install kneed\n",
        "from kneed import KneeLocator\n",
        "import matplotlib.pyplot as plt\n",
        "from sklearn.cluster import KMeans\n",
        "from sklearn.datasets import make_blobs\n",
        "\n",
        "# create sample data\n",
        "X, y = make_blobs(n_samples=500, centers=4, random_state=42)\n",
        "\n",
        "# fit KMeans clustering algorithm for different number of clusters\n",
        "wcss = []  # within-cluster sum of squares\n",
        "for i in range(1, 11):\n",
        "    kmeans = KMeans(n_clusters=i, init='k-means++', max_iter=300, n_init=10, random_state=42)\n",
        "    kmeans.fit(X)\n",
        "    wcss.append(kmeans.inertia_)\n",
        "\n",
        "# plot elbow curve\n",
        "plt.plot(range(1, 11), wcss)\n",
        "plt.title('Elbow Method')\n",
        "plt.xlabel('Number of clusters')\n",
        "plt.ylabel('WCSS')\n",
        "plt.show()\n",
        "\n",
        "# find elbow point\n",
        "elbow_point = KneeLocator(range(1, 11), wcss, curve='convex', direction='decreasing').elbow\n",
        "print(f\"Elbow point is at {elbow_point} clusters.\")\n"
      ],
      "metadata": {
        "id": "JdgBYKnVhR3F"
      },
      "execution_count": null,
      "outputs": []
    }
  ],
  "metadata": {
    "colab": {
      "provenance": []
    },
    "gpuClass": "standard",
    "kernelspec": {
      "display_name": "Python 3",
      "name": "python3"
    },
    "language_info": {
      "name": "python"
    }
  },
  "nbformat": 4,
  "nbformat_minor": 0
}